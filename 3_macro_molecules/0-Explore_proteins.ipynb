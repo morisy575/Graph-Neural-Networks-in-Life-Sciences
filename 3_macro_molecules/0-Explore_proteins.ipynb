{
 "cells": [
  {
   "cell_type": "markdown",
   "id": "20c04811",
   "metadata": {},
   "source": [
    "# タンパク質のシーケンスおよび構造の探索"
   ]
  },
  {
   "cell_type": "code",
   "execution_count": null,
   "id": "c19e5be0",
   "metadata": {
    "scrolled": true
   },
   "outputs": [],
   "source": [
    "!pip install dgl dgllife biopython seaborn transformers\n",
    "!pip uninstall -y ipywidgets\n",
    "!pip install ipywidgets"
   ]
  },
  {
   "cell_type": "code",
   "execution_count": null,
   "id": "0afe8697",
   "metadata": {},
   "outputs": [],
   "source": [
    "!git clone https://github.com/aws-samples/lm-gvp.git\n",
    "%cd lm-gvp/\n",
    "!git reset --hard 3e0cd99bad9134466f6588eea278a7bce9fd60a9\n",
    "%cd ../"
   ]
  },
  {
   "cell_type": "code",
   "execution_count": null,
   "id": "16ad5161",
   "metadata": {},
   "outputs": [],
   "source": [
    "import torch\n",
    "import dgl\n",
    "\n",
    "import boto3\n",
    "import gzip\n",
    "import numpy as np\n",
    "import pandas as pd\n",
    "from io import StringIO\n",
    "from sklearn.metrics import pairwise_distances\n",
    "from Bio import pairwise2\n",
    "from Bio.Seq import Seq\n",
    "from Bio.PDB.Polypeptide import three_to_one, is_aa\n",
    "from Bio.PDB import MMCIFParser"
   ]
  },
  {
   "cell_type": "code",
   "execution_count": null,
   "id": "449c1ddb",
   "metadata": {},
   "outputs": [],
   "source": [
    "# custom utils\n",
    "import sys\n",
    "sys.path.append('lm-gvp')\n",
    "from data.contact_map_utils import gunzip_to_ram\n",
    "from data.prepare_GO_data import chain_to_coords"
   ]
  },
  {
   "cell_type": "code",
   "execution_count": null,
   "id": "0b23cc3f",
   "metadata": {},
   "outputs": [],
   "source": [
    "import matplotlib.pylab as plt\n",
    "import seaborn as sns"
   ]
  },
  {
   "cell_type": "code",
   "execution_count": null,
   "id": "ac6c6593",
   "metadata": {},
   "outputs": [],
   "source": [
    "def read_file_from_s3(bucket, prefix):\n",
    "    s3 = boto3.resource('s3')\n",
    "    obj = s3.Object(bucket, prefix)\n",
    "    return obj.get()['Body']"
   ]
  },
  {
   "cell_type": "markdown",
   "id": "1a7d73aa",
   "metadata": {},
   "source": [
    "## 1. AWS Opendata レジストリを介して PDB からタンパク質構造を取得する\n",
    "\n",
    "https://registry.opendata.aws/pdb-3d-structural-biology-data/"
   ]
  },
  {
   "cell_type": "code",
   "execution_count": null,
   "id": "221088af",
   "metadata": {},
   "outputs": [],
   "source": [
    "pdb_id = '6XWU'\n",
    "pdb_bucket_name = 'pdbsnapshots'"
   ]
  },
  {
   "cell_type": "code",
   "execution_count": null,
   "id": "564ab6f2",
   "metadata": {},
   "outputs": [],
   "source": [
    "# PDB からタンパク質構造を取得して解析する\n",
    "cif_parser = MMCIFParser()\n",
    "\n",
    "pdb_file = read_file_from_s3(\n",
    "    pdb_bucket_name,\n",
    "    f'20220103/pub/pdb/data/structures/all/mmCIF/{pdb_id.lower()}.cif.gz'\n",
    ")\n",
    "structure = cif_parser.get_structure(pdb_id, gunzip_to_ram(pdb_file))"
   ]
  },
  {
   "cell_type": "code",
   "execution_count": null,
   "id": "aa46e43c",
   "metadata": {},
   "outputs": [],
   "source": [
    "print(structure, type(structure))"
   ]
  },
  {
   "cell_type": "code",
   "execution_count": null,
   "id": "64a375b0",
   "metadata": {},
   "outputs": [],
   "source": [
    "def extract_coords(structure, target_atoms=[\"N\", \"CA\", \"C\", \"O\"]):\n",
    "    '''\n",
    "    Extract the atomic coordinates for all the chains.\n",
    "    '''\n",
    "    records = []\n",
    "    chain_ids = set()\n",
    "    for chain in structure.get_chains():\n",
    "        if chain.id in chain_ids:  # skip duplicated chains\n",
    "            continue\n",
    "        chain_ids.add(chain.id)\n",
    "        record = chain_to_coords(chain, \n",
    "                                 name=structure.id, \n",
    "                                 target_atoms=target_atoms)\n",
    "        if record is not None:\n",
    "            records.append(record)\n",
    "    return records"
   ]
  },
  {
   "cell_type": "code",
   "execution_count": null,
   "id": "612170fc",
   "metadata": {},
   "outputs": [],
   "source": [
    "records = extract_coords(structure)\n",
    "# take the first chain from the structure\n",
    "protein = records[0]\n",
    "print(protein['seq'])\n",
    "print('sequence length:', len(protein['seq']))"
   ]
  },
  {
   "cell_type": "code",
   "execution_count": null,
   "id": "e4ac4e53",
   "metadata": {},
   "outputs": [],
   "source": [
    "# 3d coordinates of 4 key atoms [\"N\", \"CA\", \"C\", \"O\"]\n",
    "coords = np.asarray(protein['coords']) \n",
    "print(coords.shape)"
   ]
  },
  {
   "cell_type": "code",
   "execution_count": null,
   "id": "03eafc86",
   "metadata": {},
   "outputs": [],
   "source": [
    "# タンパク質のアミノ酸残基全体で 4つの重要な原子を視覚化\n",
    "fig = plt.figure(figsize=(12, 12))\n",
    "ax = fig.add_subplot(projection='3d')\n",
    "\n",
    "colors = sns.color_palette()\n",
    "atoms = [\"N\", \"CA\", \"C\", \"O\"]\n",
    "for i, atom in enumerate(atoms):\n",
    "    ax.scatter(coords[:, i, 0],\n",
    "               coords[:, i, 1],\n",
    "               coords[:, i, 2],\n",
    "               color=colors[i]\n",
    "              );\n",
    "    \n",
    "# CA原子を順次接続\n",
    "coords_CA = coords[:, 1]\n",
    "N_residues = coords.shape[0]\n",
    "edge_pos = np.array([(coords_CA[u], coords_CA[u+1]) for u in range(N_residues-1)])\n",
    "\n",
    "# Plot the edges\n",
    "for vizedge in edge_pos:\n",
    "    ax.plot(*vizedge.T, color=\"tab:gray\")"
   ]
  },
  {
   "cell_type": "code",
   "execution_count": null,
   "id": "ccf1f4f1",
   "metadata": {},
   "outputs": [],
   "source": [
    "# Visualize as contact map\n",
    "# calculate adjacency matrix of residues by proximity threshod\n",
    "dist_thresh = 10.0\n",
    "dist_mat = pairwise_distances(coords_CA, metric=\"euclidean\")\n",
    "adj =  1 * (dist_mat < dist_thresh)\n",
    "print(adj.shape)\n",
    "sns.heatmap(adj, cmap='Reds');"
   ]
  },
  {
   "cell_type": "code",
   "execution_count": null,
   "id": "804c681c",
   "metadata": {},
   "outputs": [],
   "source": [
    "# alternatively, build a kNN graph\n",
    "g = dgl.knn_graph(torch.tensor(coords_CA), k=30)\n",
    "adj = g.adj(scipy_fmt='coo')\n",
    "print(adj.shape)\n",
    "sns.heatmap(adj.todense(), cmap='Reds');"
   ]
  },
  {
   "cell_type": "markdown",
   "id": "80cb24f1",
   "metadata": {},
   "source": [
    "## 2. 事前学習済みのタンパク質言語モデルを用いたタンパク質配列のコンテキスト埋め込みの計算"
   ]
  },
  {
   "cell_type": "code",
   "execution_count": null,
   "id": "b366b812",
   "metadata": {},
   "outputs": [],
   "source": [
    "from transformers import BertTokenizer, AlbertModel"
   ]
  },
  {
   "cell_type": "code",
   "execution_count": null,
   "id": "978ab583",
   "metadata": {
    "scrolled": true
   },
   "outputs": [],
   "source": [
    "tokenizer = BertTokenizer.from_pretrained(\"Rostlab/prot_bert\", do_lower_case=False )\n",
    "prot_lm = AlbertModel.from_pretrained('Rostlab/prot_albert')"
   ]
  },
  {
   "cell_type": "code",
   "execution_count": null,
   "id": "9e0a8df8",
   "metadata": {},
   "outputs": [],
   "source": [
    "import re\n",
    "def prep_seq(seq):\n",
    "    \"\"\"\n",
    "    Adding spaces between AAs and replace rare AA [UZOB] to X.\n",
    "    ref: https://huggingface.co/Rostlab/prot_bert.\n",
    "    \"\"\"\n",
    "    seq_spaced = \" \".join(seq)\n",
    "    seq_input = re.sub(r\"[UZOB]\", \"X\", seq_spaced)\n",
    "    return seq_input"
   ]
  },
  {
   "cell_type": "code",
   "execution_count": null,
   "id": "5f03a20d",
   "metadata": {},
   "outputs": [],
   "source": [
    "encodings = tokenizer(prep_seq(protein['seq']), \n",
    "                      return_tensors=\"pt\", \n",
    "                      padding=True)\n",
    "encodings"
   ]
  },
  {
   "cell_type": "code",
   "execution_count": null,
   "id": "f79cdbe3",
   "metadata": {},
   "outputs": [],
   "source": [
    "device = torch.device('cuda:0') if torch.cuda.is_available() else torch.device('cpu')\n",
    "prot_lm = prot_lm.to(device)"
   ]
  },
  {
   "cell_type": "code",
   "execution_count": null,
   "id": "e326ac37",
   "metadata": {},
   "outputs": [],
   "source": [
    "prot_lm.eval()"
   ]
  },
  {
   "cell_type": "code",
   "execution_count": null,
   "id": "431f04a9",
   "metadata": {},
   "outputs": [],
   "source": [
    "# skip [CLS] and [SEP]\n",
    "residue_embeddings = prot_lm(encodings['input_ids'].to(device))\\\n",
    "    .last_hidden_state[:, 1:-1, :]\n",
    "print(residue_embeddings.shape)"
   ]
  },
  {
   "cell_type": "markdown",
   "id": "ec9b7479",
   "metadata": {},
   "source": [
    "## 3. タンパク質の追加特徴量の生成\n",
    "\n",
    "- Edge\n",
    "    + ベクトル特徴量：エッジベクトル\n",
    "    + スカラー特徴量 エッジベクトルのRBF    \n",
    "- Node\n",
    "    + ベクトル特徴量\n",
    "    + スカラー特徴量"
   ]
  },
  {
   "cell_type": "code",
   "execution_count": null,
   "id": "cc2253a0",
   "metadata": {},
   "outputs": [],
   "source": [
    "# construct knn graph from C-alpha coordinates\n",
    "coords_CA = torch.tensor(coords_CA)\n",
    "g = dgl.knn_graph(coords_CA, k=30)\n",
    "edge_index = g.edges()\n",
    "g"
   ]
  },
  {
   "cell_type": "code",
   "execution_count": null,
   "id": "b50f40be",
   "metadata": {},
   "outputs": [],
   "source": [
    "# Directions along edges between adjacent C-alpha atoms\n",
    "E_vectors = coords_CA[edge_index[0]] - coords_CA[edge_index[1]]\n",
    "E_vectors.shape"
   ]
  },
  {
   "cell_type": "code",
   "execution_count": null,
   "id": "60e8e80b",
   "metadata": {},
   "outputs": [],
   "source": [
    "import math\n",
    "import torch.nn.functional as F\n",
    "\n",
    "def get_rbf(D, D_min=0.0, D_max=20.0, D_count=16, device=\"cpu\"):\n",
    "    \"\"\"\n",
    "    From https://github.com/jingraham/neurips19-graph-protein-design\n",
    "\n",
    "    Returns an RBF embedding of `torch.Tensor` `D` along a new axis=-1.\n",
    "    That is, if `D` has shape [...dims], then the returned tensor will have\n",
    "    shape [...dims, D_count].\n",
    "\n",
    "\n",
    "    Args:\n",
    "        D: generic torch tensor\n",
    "        D_min: Float. Minimum of the sequence of numbers created.\n",
    "        D_max: Float. Max of the sequence of numbers created.\n",
    "        D_count: Positive integer. Count of the numbers in the sequence. It is also lenght of the new dimension (-1) created in D.\n",
    "        device: Device where D is stored.\n",
    "\n",
    "    Return:\n",
    "        Input `D` matrix with an RBF embedding along axis -1.\n",
    "    \"\"\"\n",
    "    D_mu = torch.linspace(D_min, D_max, D_count, device=device)\n",
    "    D_mu = D_mu.view([1, -1])\n",
    "    D_sigma = (D_max - D_min) / D_count\n",
    "    D_expand = torch.unsqueeze(D, -1)\n",
    "\n",
    "    RBF = torch.exp(-(((D_expand - D_mu) / D_sigma) ** 2))\n",
    "    return RBF"
   ]
  },
  {
   "cell_type": "code",
   "execution_count": null,
   "id": "99b8d3f6",
   "metadata": {},
   "outputs": [],
   "source": [
    "# RBF embeddings of the edge vectors as edge scalar features\n",
    "rbf_E_vectors = get_rbf(E_vectors.norm(dim=-1), D_count=16)\n",
    "rbf_E_vectors.shape"
   ]
  },
  {
   "cell_type": "code",
   "execution_count": null,
   "id": "7f15e65a",
   "metadata": {},
   "outputs": [],
   "source": [
    "def _normalize(tensor, dim=-1):\n",
    "    \"\"\"\n",
    "    Normalizes a `torch.Tensor` along dimension `dim` without `nan`s.\n",
    "    \"\"\"\n",
    "    return torch.nan_to_num(\n",
    "        torch.div(tensor, torch.norm(tensor, dim=dim, keepdim=True))\n",
    "    )\n",
    "\n",
    "def get_dihedrals(X, eps=1e-7):\n",
    "    \"\"\"Compute sines and cosines dihedral angles (phi, psi, and omega)\n",
    "\n",
    "    Args:\n",
    "        X: torch.Tensor specifying coordinates of key atoms (N, CA, C, O) in 3D space with shape [seq_len, 4, 3]\n",
    "        eps: Float defining the epsilon using to clamp the angle between normals: min= -1*eps, max=1-eps\n",
    "\n",
    "    Returns:\n",
    "        Sines and cosines dihedral angles as a torch.Tensor of shape [seq_len, 6]\n",
    "    \"\"\"\n",
    "    # From https://github.com/jingraham/neurips19-graph-protein-design\n",
    "    X = torch.reshape(X[:, :3], [3 * X.shape[0], 3])\n",
    "    dX = X[1:] - X[:-1]\n",
    "    U = _normalize(dX, dim=-1)\n",
    "    u_2 = U[:-2]\n",
    "    u_1 = U[1:-1]\n",
    "    u_0 = U[2:]\n",
    "\n",
    "    # Backbone normals\n",
    "    n_2 = _normalize(torch.cross(u_2, u_1), dim=-1)\n",
    "    n_1 = _normalize(torch.cross(u_1, u_0), dim=-1)\n",
    "\n",
    "    # Angle between normals\n",
    "    cosD = torch.sum(n_2 * n_1, -1)\n",
    "    cosD = torch.clamp(cosD, -1 + eps, 1 - eps)\n",
    "    D = torch.sign(torch.sum(u_2 * n_1, -1)) * torch.acos(cosD)\n",
    "\n",
    "    # This scheme will remove phi[0], psi[-1], omega[-1]\n",
    "    D = F.pad(D, [1, 2])\n",
    "    D = torch.reshape(D, [-1, 3])\n",
    "    # Lift angle representations to the circle\n",
    "    D_features = torch.cat([torch.cos(D), torch.sin(D)], 1)\n",
    "    return D_features"
   ]
  },
  {
   "cell_type": "code",
   "execution_count": null,
   "id": "b052779b",
   "metadata": {},
   "outputs": [],
   "source": [
    "# Dihedral angles as node scalar features\n",
    "dihedrals = get_dihedrals(torch.tensor(coords))\n",
    "dihedrals.shape"
   ]
  },
  {
   "cell_type": "code",
   "execution_count": null,
   "id": "28d1a3ff",
   "metadata": {},
   "outputs": [],
   "source": [
    "def get_orientations(X):\n",
    "    \"\"\"Compute orientations between pairs of atoms from neighboring residues.\n",
    "\n",
    "    Args:\n",
    "        X: torch.Tensor representing atom coordinates with shape [n_atoms, 3]\n",
    "\n",
    "    Returns:\n",
    "        torch.Tensor atom pair orientations\n",
    "    \"\"\"\n",
    "    forward = _normalize(X[1:] - X[:-1])\n",
    "    backward = _normalize(X[:-1] - X[1:])\n",
    "    forward = F.pad(forward, [0, 0, 0, 1])\n",
    "    backward = F.pad(backward, [0, 0, 1, 0])\n",
    "    return torch.cat([forward.unsqueeze(-2), backward.unsqueeze(-2)], -2)\n",
    "\n",
    "def get_sidechains(X):\n",
    "    \"\"\"Compute the unit vector representing the imputed side chain directions (C_beta - C_alpha).\n",
    "\n",
    "    Args:\n",
    "        X: torch.Tensor specifying coordinates of key atoms (N, CA, C, O) in 3D space with shape [seq_len, 4, 3]\n",
    "\n",
    "    Returns:\n",
    "        Torch tensor representing side chain directions with shape [seq_len, 3]\n",
    "    \"\"\"\n",
    "    n, origin, c = X[:, 0], X[:, 1], X[:, 2]\n",
    "    c, n = _normalize(c - origin), _normalize(n - origin)\n",
    "    bisector = _normalize(c + n)\n",
    "    perp = _normalize(torch.cross(c, n))\n",
    "    vec = -bisector * math.sqrt(1 / 3) - perp * math.sqrt(2 / 3)\n",
    "    return vec"
   ]
  },
  {
   "cell_type": "code",
   "execution_count": null,
   "id": "e12f401a",
   "metadata": {},
   "outputs": [],
   "source": [
    "# Orientations, side chains as node vector features\n",
    "orientations = get_orientations(coords_CA)\n",
    "print(orientations.shape)\n",
    "sidechains = get_sidechains(torch.tensor(coords))\n",
    "print(sidechains.shape)"
   ]
  },
  {
   "cell_type": "code",
   "execution_count": null,
   "id": "025ffb20",
   "metadata": {},
   "outputs": [],
   "source": [
    "coords_CA.shape"
   ]
  },
  {
   "cell_type": "code",
   "execution_count": null,
   "id": "9dc74c7e",
   "metadata": {},
   "outputs": [],
   "source": [
    "# plot the side chain vector feature as a 3d vector field\n",
    "from mpl_toolkits.mplot3d import Axes3D\n",
    "\n",
    "fig = plt.figure(figsize=(12, 12))\n",
    "ax = fig.add_subplot(projection='3d')\n",
    "\n",
    "atoms = [\"N\", \"CA\", \"C\", \"O\"]\n",
    "i = 1\n",
    "ax.scatter(coords[:, i, 0],\n",
    "           coords[:, i, 1],\n",
    "           coords[:, i, 2],\n",
    "           color=colors[i]\n",
    "          );\n",
    "    \n",
    "# # connect CA atoms sequentially\n",
    "coords_CA = coords[:, 1]\n",
    "N_residues = coords.shape[0]\n",
    "edge_pos = np.array([(coords_CA[u], coords_CA[u+1]) for u in range(N_residues-1)])\n",
    "\n",
    "# Plot the edges\n",
    "for vizedge in edge_pos:\n",
    "    ax.plot(*vizedge.T, color=\"tab:gray\")\n",
    "    \n",
    "# plot the directions of side chains for each node (amino acid residue)\n",
    "ax.quiver(coords_CA[:, 0], \n",
    "          coords_CA[:, 1],\n",
    "          coords_CA[:, 2],\n",
    "          sidechains[:, 0],\n",
    "          sidechains[:, 1],\n",
    "          sidechains[:, 2],\n",
    "          length=2, \n",
    "          normalize=True\n",
    "         )"
   ]
  },
  {
   "cell_type": "markdown",
   "id": "a8d8f767",
   "metadata": {},
   "source": [
    "## 4. タンパク質Functionデータセットを調べる\n",
    "\n",
    "トレーニング データセットは、LM-GVP 論文で使用されている元のデータのうち10%をランダムにサンプリングしたサブセットです。"
   ]
  },
  {
   "cell_type": "code",
   "execution_count": null,
   "id": "9f4756ef",
   "metadata": {},
   "outputs": [],
   "source": [
    "import json"
   ]
  },
  {
   "cell_type": "code",
   "execution_count": null,
   "id": "a05dc18e",
   "metadata": {
    "scrolled": true
   },
   "outputs": [],
   "source": [
    "%%bash\n",
    "# Download protein function prediction data\n",
    "mkdir -p protein_data/DeepFRI_GO\n",
    "\n",
    "files=(\n",
    "    proteins_train.json \\\n",
    "    proteins_valid.json \\\n",
    "    proteins_test.json \\\n",
    "    nrPDB-GO_2019.06.18_annot.tsv\n",
    ")\n",
    "for i in ${!files[@]}; do\n",
    "    file=${files[i]}\n",
    "    echo \"Downloading \" $file\n",
    "    wget https://d2125kp0qwrvcx.cloudfront.net/DeepFRI_GO_data/$file \\\n",
    "        -P protein_data/DeepFRI_GO\n",
    "done"
   ]
  },
  {
   "cell_type": "code",
   "execution_count": null,
   "id": "acb70ad2",
   "metadata": {},
   "outputs": [],
   "source": [
    "train_data = json.load(\n",
    "    open('protein_data/DeepFRI_GO/proteins_train.json', 'r')\n",
    ")"
   ]
  },
  {
   "cell_type": "code",
   "execution_count": null,
   "id": "2085aea0",
   "metadata": {},
   "outputs": [],
   "source": [
    "N_train = len(train_data)\n",
    "print('Number of proteins in training set:', N_train)\n",
    "\n",
    "# examine a protein instance\n",
    "protein = train_data[0]\n",
    "print(protein.keys())\n",
    "print('name:', protein['name'])\n",
    "print('seq:', protein['seq'])\n",
    "print('coords.shape:', np.asarray(protein['coords']).shape)"
   ]
  },
  {
   "cell_type": "code",
   "execution_count": null,
   "id": "f2a6ef9e",
   "metadata": {},
   "outputs": [],
   "source": [
    "# sample_idx = np.random.choice(N_train, int(0.1*N_train))\n",
    "# train_data_sample = [train_data[idx] for idx in sample_idx]\n",
    "# len(train_data_sample)"
   ]
  },
  {
   "cell_type": "code",
   "execution_count": null,
   "id": "2267714b",
   "metadata": {},
   "outputs": [],
   "source": [
    "# json.dump(train_data_sample, open('proteins_train.json', 'w'))"
   ]
  },
  {
   "cell_type": "code",
   "execution_count": null,
   "id": "ae5296cb",
   "metadata": {},
   "outputs": [],
   "source": [
    "from lmgvp.deepfrier_utils import load_GO_annot"
   ]
  },
  {
   "cell_type": "code",
   "execution_count": null,
   "id": "094d2cec",
   "metadata": {},
   "outputs": [],
   "source": [
    "# !aws s3 cp s3://gnn-in-lifesci-kdd2022/DeepFRI_GO_data/nrPDB-GO_2019.06.18_annot.tsv ."
   ]
  },
  {
   "cell_type": "code",
   "execution_count": null,
   "id": "bbff9734",
   "metadata": {},
   "outputs": [],
   "source": [
    "prot2annot, goterms, gonames, counts = load_GO_annot(\n",
    "    'protein_data/DeepFRI_GO/nrPDB-GO_2019.06.18_annot.tsv'\n",
    ")"
   ]
  },
  {
   "cell_type": "code",
   "execution_count": null,
   "id": "ff1de6b2",
   "metadata": {},
   "outputs": [],
   "source": [
    "for key, terms in goterms.items():\n",
    "    print(key, len(terms))"
   ]
  },
  {
   "cell_type": "code",
   "execution_count": null,
   "id": "2ef190a8",
   "metadata": {},
   "outputs": [],
   "source": [
    "for key, terms in counts.items():\n",
    "    print(key, len(terms))"
   ]
  },
  {
   "cell_type": "code",
   "execution_count": null,
   "id": "0e2f7519",
   "metadata": {},
   "outputs": [],
   "source": [
    "go_cc_meta = pd.DataFrame({\n",
    "    'term': goterms['cc'],\n",
    "    'name': gonames['cc'],\n",
    "    'protein_counts': counts['cc']                          \n",
    "}).set_index('term')\n",
    "go_cc_meta.sort_values('protein_counts', ascending=False).head()"
   ]
  },
  {
   "cell_type": "code",
   "execution_count": null,
   "id": "23e003c4",
   "metadata": {},
   "outputs": [],
   "source": []
  },
  {
   "cell_type": "code",
   "execution_count": null,
   "id": "48887aec",
   "metadata": {},
   "outputs": [],
   "source": []
  },
  {
   "cell_type": "code",
   "execution_count": null,
   "id": "faa08e5c",
   "metadata": {},
   "outputs": [],
   "source": []
  },
  {
   "cell_type": "code",
   "execution_count": null,
   "id": "7528d22e",
   "metadata": {},
   "outputs": [],
   "source": []
  }
 ],
 "metadata": {
  "instance_type": "ml.m5.large",
  "kernelspec": {
   "display_name": "Python 3 (PyTorch 1.10 Python 3.8 CPU Optimized)",
   "language": "python",
   "name": "python3__SAGEMAKER_INTERNAL__arn:aws:sagemaker:ap-northeast-1:102112518831:image/pytorch-1.10-cpu-py38"
  },
  "language_info": {
   "codemirror_mode": {
    "name": "ipython",
    "version": 3
   },
   "file_extension": ".py",
   "mimetype": "text/x-python",
   "name": "python",
   "nbconvert_exporter": "python",
   "pygments_lexer": "ipython3",
   "version": "3.8.10"
  }
 },
 "nbformat": 4,
 "nbformat_minor": 5
}
