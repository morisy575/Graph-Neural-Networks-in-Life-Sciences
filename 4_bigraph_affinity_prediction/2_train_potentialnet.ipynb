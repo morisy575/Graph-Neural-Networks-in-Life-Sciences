{
 "cells": [
  {
   "cell_type": "markdown",
   "id": "0e39b7f6",
   "metadata": {},
   "source": [
    "## DGL-LifeSci with PyTorchバックエンドを使用した結合親和性予測用Amazon SageMakerモデルのトレーニング\n",
    "**Amazon SageMaker Python SDK**を使用すると、DGL-LifeSciモデルを簡単にトレーニングすることができます。この例では、[PDBBind](http://www.pdbbind.org.cn/)データセットを使ってAtomic Convolutional Networks (ACNN) [1] またはPotentialNet [2] モデルを学習させます。これらの詳細については、[DGL-Lifesciのサンプルページ](https://github.com/yoheigon/dgl-lifesci/tree/master/examples/binding_affinity_prediction)を参照してください。\n",
    "\n",
    "[1] Gomes et al. (2017) Atomic Convolutional Networks for Predicting Protein-Ligand Binding Affinity. *arXiv preprint arXiv:1703.10603*.\n",
    "\n",
    "[2] Feinberg et al. (2018) PotentialNet for molecular property prediction. *ACS central science* 4.11: 1520-1530."
   ]
  },
  {
   "cell_type": "markdown",
   "id": "7e653105",
   "metadata": {},
   "source": [
    "### セットアップ\n",
    "後々必要になるいくつかの変数をここで定義しておきます。"
   ]
  },
  {
   "cell_type": "code",
   "execution_count": null,
   "id": "2f8806ce",
   "metadata": {
    "tags": []
   },
   "outputs": [],
   "source": [
    "import sagemaker\n",
    "from sagemaker import get_execution_role\n",
    "from sagemaker.session import Session\n",
    "\n",
    "# Setup session\n",
    "sess = sagemaker.Session()\n",
    "\n",
    "# S3 bucket for saving code and model artifacts.\n",
    "# Feel free to specify a different bucket here.\n",
    "bucket = sess.default_bucket()\n",
    "\n",
    "# IAM execution role that gives Amazon SageMaker access to resources in your AWS account.\n",
    "# You can use the Amazon SageMaker Python SDK to get the role from the notebook environment.\n",
    "role = get_execution_role()"
   ]
  },
  {
   "cell_type": "code",
   "execution_count": null,
   "id": "ce14738f",
   "metadata": {
    "tags": []
   },
   "outputs": [],
   "source": [
    "bucket"
   ]
  },
  {
   "cell_type": "markdown",
   "id": "970d7e72",
   "metadata": {},
   "source": [
    "### 学習スクリプト\n",
    "`main.py`は、Amazon SageMaker モデルのトレーニングに必要なすべてのコードを提供します。"
   ]
  },
  {
   "cell_type": "code",
   "execution_count": null,
   "id": "64e99067",
   "metadata": {
    "tags": []
   },
   "outputs": [],
   "source": [
    "!cat ./code/main.py"
   ]
  },
  {
   "cell_type": "code",
   "execution_count": null,
   "id": "069a4c9d",
   "metadata": {
    "scrolled": true,
    "tags": []
   },
   "outputs": [],
   "source": [
    "!aws s3 ls s3://{bucket}/preprocessed/graph_files_v2020_refined_core/"
   ]
  },
  {
   "cell_type": "markdown",
   "id": "7dd5d8c9",
   "metadata": {},
   "source": [
    "### 入力データセットの指定\n",
    "\n",
    "`1_make_potential_graphs`のノートブックでバイナリファイルを配置したのと同じS3 URIを使用します。"
   ]
  },
  {
   "cell_type": "code",
   "execution_count": null,
   "id": "934cc994",
   "metadata": {
    "tags": []
   },
   "outputs": [],
   "source": [
    "#s3_input = sagemaker.inputs.TrainingInput(s3_data='<your S3 prefix of input binary files>')\n",
    "s3_input = sagemaker.inputs.TrainingInput(s3_data=f's3://{bucket}/preprocessed/graph_files_v2020_refined_core/')\n",
    "#s3_input_ft = sagemaker.inputs.TrainingInput(s3_data='<your S3 prefix of input binary files for fine tuning>') #option"
   ]
  },
  {
   "cell_type": "markdown",
   "id": "1d1c9685",
   "metadata": {},
   "source": [
    "### SageMaker Estimator Class\n",
    "Amazon SageMaker Estimatorを使用すると、CPUまたはGPUベースのインスタンスを使用して、Amazon SageMakerでシングルマシンを実行することができます。\n",
    "\n",
    "Estimatorを作成する際に、学習スクリプトのファイル名とIAM実行ロールの名前を渡します。`instance_count`と`instance_type`は、トレーニングジョブに使用されるAmazon SageMakerインスタンスの数と種類を決定します。`hyperparameters`パラメータは、`argparse`を使用して解析できるように、パラメータとしてトレーニングスクリプトに渡される値のディクショナリです。これらの値にアクセスする方法は、上記の`main.py`スクリプトで確認することができます。\n",
    "\n",
    "この例では、学習用インスタンスにml.p3.2xlargeを、PDBBind(v2020) core + generalデータセットを使用しています。"
   ]
  },
  {
   "cell_type": "code",
   "execution_count": null,
   "id": "4710937c",
   "metadata": {
    "tags": []
   },
   "outputs": [],
   "source": [
    "from sagemaker.pytorch import PyTorch\n",
    "\n",
    "metric_definitions = [\n",
    "    {\"Name\": \"val_mae\", \"Regex\": \"val mae: ([0-9\\\\.]+)\"},\n",
    "    {\"Name\": \"val_r2\", \"Regex\": \"val r2: ([0-9\\\\.]+)\"},\n",
    "    {\"Name\": \"test_mae\", \"Regex\": \"test mae: ([0-9\\\\.]+)\"},\n",
    "    {\"Name\": \"test_r2\", \"Regex\": \"test r2: ([0-9\\\\.]+)\"},\n",
    "    {\"Name\": \"mae\", \"Regex\": \"mae ([0-9.]+).*$\"},\n",
    "    {\"Name\": \"r2\", \"Regex\": \"r2 ([0-9.]+).*$\"},\n",
    "]\n",
    "\n",
    "# Create estimator\n",
    "estimator = PyTorch(\n",
    "    entry_point=\"main.py\",\n",
    "    source_dir=\"code\",\n",
    "    role=role,\n",
    "    framework_version=\"1.6.0\",\n",
    "    py_version=\"py3\",\n",
    "    instance_count=1,\n",
    "    instance_type=\"ml.p3.2xlarge\",\n",
    "    hyperparameters={\n",
    "        \"lr\":0.001,\n",
    "    },\n",
    "    metric_definitions=metric_definitions,\n",
    ")"
   ]
  },
  {
   "cell_type": "markdown",
   "id": "6c41cae8",
   "metadata": {},
   "source": [
    "### Running the Training Job\n",
    "After you construct the Estimator object, fit it by using Amazon SageMaker. The [PDBBind](http://www.pdbbind.org.cn/) dataset is automatically downloaded."
   ]
  },
  {
   "cell_type": "code",
   "execution_count": null,
   "id": "b5ac1ffd",
   "metadata": {
    "scrolled": true,
    "tags": []
   },
   "outputs": [],
   "source": [
    "# Launch SageMaker training job\n",
    "estimator.fit({'train': s3_input})"
   ]
  },
  {
   "cell_type": "code",
   "execution_count": null,
   "id": "13f7945e",
   "metadata": {
    "tags": []
   },
   "outputs": [],
   "source": [
    "!aws s3 cp {estimator.output_path}{estimator.latest_training_job.job_name}/output/model.tar.gz ."
   ]
  },
  {
   "cell_type": "markdown",
   "id": "94f5536c",
   "metadata": {},
   "source": [
    "## Go to the next notebook : 3 local inference potentialnet"
   ]
  },
  {
   "cell_type": "markdown",
   "id": "76f1ca92",
   "metadata": {},
   "source": [
    "### (Optional) ファインチューニングジョブを実行"
   ]
  },
  {
   "cell_type": "code",
   "execution_count": null,
   "id": "80a3b071",
   "metadata": {},
   "outputs": [],
   "source": [
    "# Create estimator\n",
    "estimator_ft = PyTorch(\n",
    "    entry_point=\"main.py\",\n",
    "    source_dir=\"code\",\n",
    "    role=role,\n",
    "    framework_version=\"1.6.0\",\n",
    "    py_version=\"py3\",\n",
    "    instance_count=1,\n",
    "    instance_type=\"ml.p3.2xlarge\",\n",
    "    hyperparameters={\n",
    "        \"lr\":0.001,\n",
    "        \"fine_tune\":True,\n",
    "        \"pretrained_model\":'<your S3 prefix of a trained model>/model.tar.gz'\n",
    "    },\n",
    "    metric_definitions=metric_definitions,\n",
    ")"
   ]
  },
  {
   "cell_type": "code",
   "execution_count": null,
   "id": "3fab8e69",
   "metadata": {},
   "outputs": [],
   "source": [
    "# Launch SageMaker training job\n",
    "estimator_ft.fit({'train': s3_input_ft})"
   ]
  },
  {
   "cell_type": "markdown",
   "id": "5fcf47b6",
   "metadata": {},
   "source": [
    "### (Optional) ハイパーパラメータチューニングジョブを実行\n",
    "\n",
    "SageMakerは、ハイパーパラメータの組み合わせを変えて複数の学習ジョブを開始し、最も優れたモデル性能を持つセットを見つけるHyperparameter Tuningを提供します。チューニングするハイパーパラメータとその値を指定することができます。"
   ]
  },
  {
   "cell_type": "code",
   "execution_count": null,
   "id": "1a8144cd",
   "metadata": {},
   "outputs": [],
   "source": [
    "import boto3\n",
    "from sagemaker.tuner import (\n",
    "    IntegerParameter,\n",
    "    CategoricalParameter,\n",
    "    ContinuousParameter,\n",
    "    HyperparameterTuner,\n",
    ")\n",
    "\n",
    "hyperparameter_ranges = {\n",
    "    \"lr\": ContinuousParameter(0.001, 0.01),\n",
    "    \"num_epochs\": IntegerParameter(100, 200),\n",
    "}"
   ]
  },
  {
   "cell_type": "markdown",
   "id": "141985d5",
   "metadata": {},
   "source": [
    "次に、チューニングしたい目的メトリクスとその定義を指定します。これには、SageMaker Training JobのAmazon CloudWatch Logsからそのメトリックを抽出するために必要な正規表現（regex）が含まれます。この例では、\"mae \"と \"r2 \"がサポートされています。"
   ]
  },
  {
   "cell_type": "code",
   "execution_count": null,
   "id": "e9eb52cd",
   "metadata": {},
   "outputs": [],
   "source": [
    "objective_metric_name = \"mae\""
   ]
  },
  {
   "cell_type": "markdown",
   "id": "92c1b37c",
   "metadata": {},
   "source": [
    "\n",
    "ここで、HyperparameterTunerオブジェクトを作成し、以下の変数を渡します。\n",
    "\n",
    " * 上記で作成した学習推定量\n",
    " * ハイパーパラメータの範囲\n",
    " * 目的メトリクスの名前と定義\n",
    " * 合計で実行するトレーニングジョブの数と、同時に実行するトレーニングジョブの数。並列ジョブを増やすとチューニングが早く終わりますが、精度が犠牲になる場合があります。並列ジョブの値をトレーニングジョブの総数の10%以下に設定することをお勧めします(この例では短くするために高く設定します)。\n",
    " * 目的指標を最大化するか、最小化するか。デフォルトでは「最大化」になっているため、ここでは指定していません。\n",
    " "
   ]
  },
  {
   "cell_type": "code",
   "execution_count": null,
   "id": "d7acee5c",
   "metadata": {},
   "outputs": [],
   "source": [
    "task_tags = [{\"Key\": \"ML Task\", \"Value\": \"DGL-Lifesci\"}]\n",
    "tuner = HyperparameterTuner(\n",
    "    estimator,\n",
    "    objective_metric_name,\n",
    "    hyperparameter_ranges,\n",
    "    metric_definitions,\n",
    "    tags=task_tags,\n",
    "    max_jobs=2,\n",
    "    max_parallel_jobs=1,\n",
    ")"
   ]
  },
  {
   "cell_type": "markdown",
   "id": "3f9c409b",
   "metadata": {},
   "source": [
    "最後に、`.fit().`メソッドを呼び出してチューニングジョブを実行しましょう。"
   ]
  },
  {
   "cell_type": "code",
   "execution_count": null,
   "id": "f6e5147b",
   "metadata": {},
   "outputs": [],
   "source": [
    "tuner.fit(wait=False)"
   ]
  },
  {
   "cell_type": "markdown",
   "id": "fbcee0b8",
   "metadata": {},
   "source": [
    "Hyperparameter Tuningのジョブが正常に開始され、InProgressになっていることを確認するために、ジョブの状態を簡単にチェックしてみましょう。"
   ]
  },
  {
   "cell_type": "code",
   "execution_count": null,
   "id": "bfdbec57",
   "metadata": {},
   "outputs": [],
   "source": [
    "sagemaker_client = boto3.client(\"sagemaker\")\n",
    "\n",
    "sagemaker_client.describe_hyper_parameter_tuning_job(\n",
    "    HyperParameterTuningJobName=tuner.latest_tuning_job.job_name)[\"HyperParameterTuningJobStatus\"]"
   ]
  },
  {
   "cell_type": "markdown",
   "id": "c100a6fd",
   "metadata": {},
   "source": [
    "### Output\n",
    "ハイパーパラメータのチューニングが終了すると、以下のように最適なモデルが得られます。SageMakerのハイパーパラメータチューニングジョブにより、計算量の多い学習ジョブを簡単に管理し、最適なモデル構成を見つけることができます。"
   ]
  },
  {
   "cell_type": "code",
   "execution_count": null,
   "id": "d4b99edd",
   "metadata": {},
   "outputs": [],
   "source": [
    "s3_client = boto3.client(\"s3\")\n",
    "\n",
    "tuner_status = sagemaker_client.describe_hyper_parameter_tuning_job(\n",
    "    HyperParameterTuningJobName=tuner.latest_tuning_job.job_name)[\"HyperParameterTuningJobStatus\"]\n",
    "\n",
    "if tuner_status == \"Completed\":\n",
    "    best_training_job_summary = sagemaker_boto_client.describe_hyper_parameter_tuning_job(\n",
    "        HyperParameterTuningJobName=tuner.latest_tuning_job.job_name)[\"BestTrainingJob\"]\n",
    "    best_training_job_details = sagemaker_boto_client.describe_training_job(\n",
    "        TrainingJobName=best_training_job_summary[\"TrainingJobName\"])\n",
    "\n",
    "    trained_model_s3_uri = best_training_job_details[\"ModelArtifacts\"][\"S3ModelArtifacts\"]\n",
    "    s3_client.download_file(trained_model_s3_uri.split('/')[2], ('/').join(trained_model_s3_uri.split('/')[3:]), \"model.tar.gz\")"
   ]
  }
 ],
 "metadata": {
  "instance_type": "ml.m5.large",
  "kernelspec": {
   "display_name": "Python 3 (PyTorch 1.6 Python 3.6 CPU Optimized)",
   "language": "python",
   "name": "python3__SAGEMAKER_INTERNAL__arn:aws:sagemaker:ap-northeast-1:102112518831:image/pytorch-1.6-cpu-py36-ubuntu16.04-v1"
  },
  "language_info": {
   "codemirror_mode": {
    "name": "ipython",
    "version": 3
   },
   "file_extension": ".py",
   "mimetype": "text/x-python",
   "name": "python",
   "nbconvert_exporter": "python",
   "pygments_lexer": "ipython3",
   "version": "3.6.13"
  }
 },
 "nbformat": 4,
 "nbformat_minor": 5
}
